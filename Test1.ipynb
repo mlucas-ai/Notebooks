{
 "cells": [
  {
   "cell_type": "code",
   "execution_count": 1,
   "metadata": {},
   "outputs": [],
   "source": [
    "#ce code prend les photos dans le sous-dossier echantillonTest, leur applique 10 filtres, \n",
    "#puis les redimensionne aléatoirement 20 fois, avant de les déposer dans le sous-dossier resultatCartes sous le nom\n",
    "#'couleur.symbole.i', avec couleur = {rouge, noir}, symbole = {1...Roi} et i numéro de l'image pour cette couleur\n",
    "#et ce symbole.\n",
    "#Le présent programme test exécute l'opération pour le 9 de carreau.\n",
    "couleur=\"rouge\"\n",
    "symbole=\"carreau\"\n",
    "valeur=\"9\""
   ]
  },
  {
   "cell_type": "code",
   "execution_count": 2,
   "metadata": {},
   "outputs": [
    {
     "name": "stdout",
     "output_type": "stream",
     "text": [
      "done\n"
     ]
    }
   ],
   "source": [
    "import glob\n",
    "import numpy as np\n",
    "from PIL import Image\n",
    "import matplotlib.pyplot as plt\n",
    "import os\n",
    "import random #on veut mélanger les images\n",
    "from tensorflow import keras\n",
    "print(\"done\")"
   ]
  },
  {
   "cell_type": "code",
   "execution_count": 3,
   "metadata": {},
   "outputs": [],
   "source": [
    "files = glob.glob('echantillonTest/*.jpg')"
   ]
  },
  {
   "cell_type": "code",
   "execution_count": 4,
   "metadata": {},
   "outputs": [
    {
     "name": "stdout",
     "output_type": "stream",
     "text": [
      "['echantillonTest\\\\20210131_103943.jpg', 'echantillonTest\\\\20210131_103953.jpg']\n"
     ]
    }
   ],
   "source": [
    "print(files)"
   ]
  },
  {
   "cell_type": "code",
   "execution_count": 5,
   "metadata": {},
   "outputs": [],
   "source": [
    "import tensorflow as tf"
   ]
  },
  {
   "cell_type": "code",
   "execution_count": 6,
   "metadata": {},
   "outputs": [
    {
     "name": "stdout",
     "output_type": "stream",
     "text": [
      "done\n"
     ]
    }
   ],
   "source": [
    "#on fait le flou et le contraste\n",
    "#import imgaug\n",
    "from PIL import ImageFilter\n",
    "from tensorflow.keras.preprocessing.image import ImageDataGenerator, array_to_img, img_to_array, load_img\n",
    "#tentative avec Keras. ne semble pas proposer de fonction pour gérer le floutage ou contraste.\n",
    "from tensorflow.keras.preprocessing.image import ImageDataGenerator, array_to_img, img_to_array, load_img\n",
    "for img in files:\n",
    "    img = load_img(img)  # this is a PIL image  \n",
    "    im1=img.filter(ImageFilter.BLUR)\n",
    "    im2=img.filter(ImageFilter.CONTOUR)\n",
    "    im3=img.filter(ImageFilter.DETAIL)\n",
    "    im4=img.filter(ImageFilter.EDGE_ENHANCE)\n",
    "    im5=img.filter(ImageFilter.EDGE_ENHANCE_MORE)\n",
    "    im6=img.filter(ImageFilter.EMBOSS)\n",
    "    im7=img.filter(ImageFilter.FIND_EDGES)\n",
    "    im8=img.filter(ImageFilter.SHARPEN)\n",
    "    im9=img.filter(ImageFilter.SMOOTH)\n",
    "    im10=img.filter(ImageFilter.SMOOTH_MORE)\n",
    "\n",
    "    liste = []\n",
    "    liste.append(img)\n",
    "    liste.append(im1)\n",
    "    liste.append(im2)\n",
    "    liste.append(im3)\n",
    "    liste.append(im4)\n",
    "    liste.append(im5)\n",
    "    liste.append(im6)\n",
    "    liste.append(im7)\n",
    "    liste.append(im8)\n",
    "    liste.append(im8)\n",
    "    liste.append(im10)\n",
    "    \n",
    "\n",
    "\n",
    "    datagen = ImageDataGenerator(  \n",
    "            rotation_range=40,\n",
    "            width_shift_range=0.2,\n",
    "            height_shift_range=0.2,\n",
    "            shear_range=0.2,\n",
    "            zoom_range=0.2,\n",
    "            horizontal_flip=True,\n",
    "            fill_mode='nearest')\n",
    "\n",
    "\n",
    "    for img in liste: \n",
    "        x = img_to_array(img)  # this is a Numpy array with shape (3, 150, 150)  \n",
    "        x = x.reshape((1,) + x.shape)  # this is a Numpy array with shape (1, 3, 150, 150)\n",
    "\n",
    "        # the .flow() command below generates batches of randomly transformed images\n",
    "        # and saves the results to the `preview/` directory\n",
    "        i = 0  \n",
    "        for batch in datagen.flow(x, batch_size=1,  \n",
    "                                  save_to_dir='resultatCartes', save_prefix=couleur + \".\" + symbole + \".\" + valeur + \".\", save_format='jpeg'):\n",
    "            i += 1\n",
    "            if i > 3:\n",
    "                break  # otherwise the generator would loop indefinitely\n",
    "\n",
    "\n",
    "print('done')"
   ]
  }
 ],
 "metadata": {
  "kernelspec": {
   "display_name": "Python 3",
   "language": "python",
   "name": "python3"
  },
  "language_info": {
   "codemirror_mode": {
    "name": "ipython",
    "version": 3
   },
   "file_extension": ".py",
   "mimetype": "text/x-python",
   "name": "python",
   "nbconvert_exporter": "python",
   "pygments_lexer": "ipython3",
   "version": "3.7.4"
  }
 },
 "nbformat": 4,
 "nbformat_minor": 2
}
